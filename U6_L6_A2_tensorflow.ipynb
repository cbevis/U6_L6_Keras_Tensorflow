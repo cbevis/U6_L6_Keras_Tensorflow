{
 "cells": [
  {
   "cell_type": "code",
   "execution_count": 2,
   "metadata": {},
   "outputs": [],
   "source": [
    "import tensorflow as tf"
   ]
  },
  {
   "cell_type": "markdown",
   "metadata": {},
   "source": [
    "Build a few tensors below.  Can you figure out the rank? <br>\n",
    "Tensors can be converted to NumPy arrays using .eval()"
   ]
  },
  {
   "cell_type": "code",
   "execution_count": 3,
   "metadata": {},
   "outputs": [
    {
     "data": {
      "text/plain": [
       "2"
      ]
     },
     "execution_count": 3,
     "metadata": {},
     "output_type": "execute_result"
    }
   ],
   "source": [
    "# Rank 1\n",
    "[3, 2, 1]\n",
    "# Rank 2\n",
    "[[3, 2], [1, 3]]\n",
    "# Rank 3\n",
    "[[[1], [2]], [[1], [2]]]\n",
    "# Rank 0 (Scalar)\n",
    "2"
   ]
  },
  {
   "cell_type": "markdown",
   "metadata": {},
   "source": [
    "### Nodes\n",
    "- Nodes are places things can happen in our model\n",
    "- Make a constant node, an add node, placeholder node\n",
    "- Each additional node gets a unique name"
   ]
  },
  {
   "cell_type": "code",
   "execution_count": 6,
   "metadata": {},
   "outputs": [
    {
     "name": "stdout",
     "output_type": "stream",
     "text": [
      "Tensor(\"Const_2:0\", shape=(), dtype=int32)\n",
      "Tensor(\"Add_1:0\", shape=(), dtype=int32)\n",
      "Tensor(\"Placeholder:0\", dtype=int32)\n"
     ]
    }
   ],
   "source": [
    "# Create the Node\n",
    "node_const = tf.constant(70)\n",
    "\n",
    "# print the node\n",
    "print(node_const)\n",
    "\n",
    "# Create an addition node\n",
    "node_add = tf.add(node_const, node_const)\n",
    "\n",
    "# print this node\n",
    "print(node_add)\n",
    "\n",
    "# Initiate our node with a default data type\n",
    "node_place = tf.placeholder(tf.int32)\n",
    "# Print it again\n",
    "print(node_place)"
   ]
  },
  {
   "cell_type": "markdown",
   "metadata": {},
   "source": [
    "### Sessions in TensorFlow\n",
    "Sessions are TensorFlow's way of sayign that we actually intend to do something with our vairous nodes and tensors with the intention of generating some kind of output. <br>\n",
    "When we run a session, the node is executed, leading the value to be returned.  Before that, teh node exists as a more complicated structure wrapping our constant"
   ]
  },
  {
   "cell_type": "code",
   "execution_count": 7,
   "metadata": {},
   "outputs": [
    {
     "data": {
      "text/plain": [
       "70"
      ]
     },
     "execution_count": 7,
     "metadata": {},
     "output_type": "execute_result"
    }
   ],
   "source": [
    "sess = tf.Session()\n",
    "\n",
    "sess.run(node_const)"
   ]
  },
  {
   "cell_type": "code",
   "execution_count": 8,
   "metadata": {},
   "outputs": [
    {
     "data": {
      "text/plain": [
       "6"
      ]
     },
     "execution_count": 8,
     "metadata": {},
     "output_type": "execute_result"
    }
   ],
   "source": [
    "# Establish a placeholder, named 'a'\n",
    "a = tf.placeholder(tf.int32)\n",
    "\n",
    "# Create an operator node that takes our placeholder and a constant node\n",
    "multiply_by_2 = tf.multiply(a, tf.constant(2))\n",
    "\n",
    "# Run the node to return our output\n",
    "sess.run(multiply_by_2, {a : 3})"
   ]
  },
  {
   "cell_type": "code",
   "execution_count": 9,
   "metadata": {},
   "outputs": [
    {
     "data": {
      "text/plain": [
       "array([[  6,   8, 162],\n",
       "       [  4,  62,  26]], dtype=int32)"
      ]
     },
     "execution_count": 9,
     "metadata": {},
     "output_type": "execute_result"
    }
   ],
   "source": [
    "sess.run(multiply_by_2, {a: [[3, 4, 81], [2, 31, 13]]})"
   ]
  },
  {
   "cell_type": "markdown",
   "metadata": {},
   "source": [
    "### Drill\n",
    "Now you have the basic elements of tensor flow, so it's time to build some things on your own. In the cell below, create the following tensors:\n",
    "\n",
    "1. Add a two constants, 3 and 2, together.\n",
    "\n",
    "2. Divide a placeholder by 2.\n",
    "\n",
    "3. Take two placeholders and multiply them.\n",
    "\n",
    "4. Sum a 7 and a placeholder, then multiply it by two."
   ]
  },
  {
   "cell_type": "code",
   "execution_count": 10,
   "metadata": {},
   "outputs": [
    {
     "data": {
      "text/plain": [
       "5"
      ]
     },
     "execution_count": 10,
     "metadata": {},
     "output_type": "execute_result"
    }
   ],
   "source": [
    "# Add two constants, 3 and 2, together\n",
    "\n",
    "add_const = tf.add(tf.constant(3), (tf.constant(2)))\n",
    "\n",
    "sess.run(add_const)"
   ]
  },
  {
   "cell_type": "code",
   "execution_count": 11,
   "metadata": {},
   "outputs": [
    {
     "data": {
      "text/plain": [
       "3.0"
      ]
     },
     "execution_count": 11,
     "metadata": {},
     "output_type": "execute_result"
    }
   ],
   "source": [
    "# Divide a placholder by 2\n",
    "b = tf.placeholder(tf.int32)\n",
    "\n",
    "divide_by_2 = tf.divide(b, tf.constant(2))\n",
    "\n",
    "sess.run(divide_by_2, {b: 6})"
   ]
  },
  {
   "cell_type": "code",
   "execution_count": 13,
   "metadata": {},
   "outputs": [
    {
     "data": {
      "text/plain": [
       "array([6, 3], dtype=int32)"
      ]
     },
     "execution_count": 13,
     "metadata": {},
     "output_type": "execute_result"
    }
   ],
   "source": [
    "# Multiply two placeholders\n",
    "# Use previously defined placeholders a and b\n",
    "multiply_2 = tf.multiply(a, b)\n",
    "\n",
    "sess.run(multiply_2, {a: [2, 1], b: 3})"
   ]
  },
  {
   "cell_type": "code",
   "execution_count": 14,
   "metadata": {},
   "outputs": [
    {
     "data": {
      "text/plain": [
       "24"
      ]
     },
     "execution_count": 14,
     "metadata": {},
     "output_type": "execute_result"
    }
   ],
   "source": [
    "# Sum a 7 and a placeholder, then multiply it by 2\n",
    "sum_and_mult = tf.multiply(tf.add(a, tf.constant(7)), 2)\n",
    "\n",
    "sess.run(sum_and_mult, {a: 5})"
   ]
  },
  {
   "cell_type": "code",
   "execution_count": null,
   "metadata": {},
   "outputs": [],
   "source": []
  }
 ],
 "metadata": {
  "kernelspec": {
   "display_name": "Python 3",
   "language": "python",
   "name": "python3"
  },
  "language_info": {
   "codemirror_mode": {
    "name": "ipython",
    "version": 3
   },
   "file_extension": ".py",
   "mimetype": "text/x-python",
   "name": "python",
   "nbconvert_exporter": "python",
   "pygments_lexer": "ipython3",
   "version": "3.7.0"
  }
 },
 "nbformat": 4,
 "nbformat_minor": 2
}
