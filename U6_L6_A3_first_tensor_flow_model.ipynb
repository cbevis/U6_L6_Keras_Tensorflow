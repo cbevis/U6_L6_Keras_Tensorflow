{
 "cells": [
  {
   "cell_type": "code",
   "execution_count": 1,
   "metadata": {},
   "outputs": [],
   "source": [
    "import tensorflow as tf\n",
    "sess = tf.Session()"
   ]
  },
  {
   "cell_type": "markdown",
   "metadata": {},
   "source": [
    "## Modeling with TensorFlow\n",
    "- Start simple example: linear model\n",
    "- Neural Networks are ensembles of many linear models\n",
    "\n",
    "### Variables\n",
    "- tensor flow variable somewhat between a constant and a placeholder\n",
    "- does not have a set value\n",
    "- takes a default value\n",
    "- variables have to be initialized"
   ]
  },
  {
   "cell_type": "code",
   "execution_count": 4,
   "metadata": {},
   "outputs": [],
   "source": [
    "q = tf.Variable([0], tf.float32)\n",
    "\n",
    "# You have to initialize variables.  They are not initialized when they are defined\n",
    "init = tf.global_variables_initializer()\n",
    "sess.run(init)"
   ]
  },
  {
   "cell_type": "code",
   "execution_count": 5,
   "metadata": {},
   "outputs": [],
   "source": [
    "# Note that our initial value has to match the data type\n",
    "# so 1 would give an error because it's an int\n",
    "b = tf.Variable([1.], tf.float32)\n",
    "m = tf.Variable([1.], tf.float32)\n",
    "x = tf.placeholder(tf.float32)\n",
    "\n",
    "# Implement a linear model with shorthand for tf.add() by using '+'\n",
    "# and tf.multiply with '*'\n",
    "linear_model = m * x + b\n",
    "\n",
    "# New variables means we have to initialize again\n",
    "init = tf.global_variables_initializer()\n",
    "sess.run(init)"
   ]
  },
  {
   "cell_type": "code",
   "execution_count": 6,
   "metadata": {},
   "outputs": [
    {
     "name": "stdout",
     "output_type": "stream",
     "text": [
      "[2. 3. 4. 5.]\n"
     ]
    }
   ],
   "source": [
    "# Run model over a string of values\n",
    "print(sess.run(linear_model, {x:[1, 2, 3, 4]}))"
   ]
  },
  {
   "cell_type": "markdown",
   "metadata": {},
   "source": [
    "What if we are trying to match a real line?<br>\n",
    "- Need to have training data and a loss function"
   ]
  },
  {
   "cell_type": "code",
   "execution_count": 11,
   "metadata": {},
   "outputs": [
    {
     "name": "stdout",
     "output_type": "stream",
     "text": [
      "116.04001\n"
     ]
    }
   ],
   "source": [
    "y = tf.placeholder(tf.float32)\n",
    "squared_deltas = tf.square(linear_model - y)\n",
    "loss = tf.reduce_sum(squared_deltas)\n",
    "print(sess.run(loss, {x:[1, 2, 3, 4], y:[.1, -.9, -1.9, -2.9]}))"
   ]
  },
  {
   "cell_type": "code",
   "execution_count": 12,
   "metadata": {},
   "outputs": [
    {
     "name": "stdout",
     "output_type": "stream",
     "text": [
      "4.9960036e-16\n"
     ]
    }
   ],
   "source": [
    "fixm = tf.assign(m, [-1.])\n",
    "fixb = tf.assign(b, [1.1])\n",
    "sess.run([fixm, fixb])\n",
    "print(sess.run(loss, {x:[1, 2, 3, 4], y:[.1, -.9, -1.9, -2.9]}))"
   ]
  },
  {
   "cell_type": "markdown",
   "metadata": {},
   "source": [
    "# Training in tensor flow\n",
    "- Above used knowledge we already had, not that useful\n",
    "- implement gradient descent\n",
    "- Minimize loss function"
   ]
  },
  {
   "cell_type": "code",
   "execution_count": 19,
   "metadata": {},
   "outputs": [
    {
     "name": "stdout",
     "output_type": "stream",
     "text": [
      "[array([-0.9999984], dtype=float32), array([1.0999953], dtype=float32)]\n"
     ]
    }
   ],
   "source": [
    "# Set your learning rate in gradient descent\n",
    "optimizer = tf.train.GradientDescentOptimizer(0.01)\n",
    "train = optimizer.minimize(loss)\n",
    "\n",
    "# reset values to incorrect defaults\n",
    "sess.run(init)\n",
    "\n",
    "# Loop for 100 iterations, trying to find optimal values\n",
    "for i in range(1000):\n",
    "    sess.run(train, {x:[1, 2, 3, 4], y:[.1, -.9, -1.9, -2.9]})\n",
    "    \n",
    "print(sess.run([m, b]))"
   ]
  },
  {
   "cell_type": "code",
   "execution_count": null,
   "metadata": {},
   "outputs": [],
   "source": []
  }
 ],
 "metadata": {
  "kernelspec": {
   "display_name": "Python 3",
   "language": "python",
   "name": "python3"
  },
  "language_info": {
   "codemirror_mode": {
    "name": "ipython",
    "version": 3
   },
   "file_extension": ".py",
   "mimetype": "text/x-python",
   "name": "python",
   "nbconvert_exporter": "python",
   "pygments_lexer": "ipython3",
   "version": "3.7.0"
  }
 },
 "nbformat": 4,
 "nbformat_minor": 2
}
